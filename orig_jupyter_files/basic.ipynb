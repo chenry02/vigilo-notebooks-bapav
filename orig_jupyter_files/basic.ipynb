{
 "cells": [
  {
   "cell_type": "code",
   "execution_count": 1,
   "metadata": {},
   "outputs": [],
   "source": [
    "import requests\n",
    "import ipyleaflet\n",
    "\n",
    "response = requests.get(\"https://vigilo.jesuisundesdeux.org/get_issues.php\")\n",
    "issues = response.json()"
   ]
  },
  {
   "cell_type": "code",
   "execution_count": 2,
   "metadata": {},
   "outputs": [
    {
     "data": {
      "text/plain": [
       "{'token': '3FD303C7',\n",
       " 'coordinates_lat': '43.61018',\n",
       " 'coordinates_lon': '3.88482',\n",
       " 'address': 'allée Henri II de Montmorency , Montpellier',\n",
       " 'comment': 'rail en plein sur la piste cyclable',\n",
       " 'explanation': '',\n",
       " 'time': '1675235700',\n",
       " 'status': 0,\n",
       " 'group': 0,\n",
       " 'categorie': '3',\n",
       " 'approved': '0',\n",
       " 'cityname': 'Montpellier'}"
      ]
     },
     "execution_count": 2,
     "metadata": {},
     "output_type": "execute_result"
    }
   ],
   "source": [
    "issues[0]"
   ]
  },
  {
   "cell_type": "code",
   "execution_count": 4,
   "metadata": {},
   "outputs": [
    {
     "data": {
      "text/plain": [
       "(43.61096049431887, 3.8730657449130987)"
      ]
     },
     "execution_count": 4,
     "metadata": {},
     "output_type": "execute_result"
    }
   ],
   "source": [
    "import numpy as np\n",
    "coordinates = [(float(issue['coordinates_lat']), float(issue['coordinates_lon'])) for issue in issues]\n",
    "coordinates_array = np.array(coordinates)\n",
    "center = (np.mean(coordinates_array[:, 0]), np.mean(coordinates_array[:, 1]))\n",
    "center"
   ]
  },
  {
   "cell_type": "code",
   "execution_count": 5,
   "metadata": {},
   "outputs": [
    {
     "data": {
      "application/vnd.jupyter.widget-view+json": {
       "model_id": "363805abc33c40489d40ccfc7e13858a",
       "version_major": 2,
       "version_minor": 0
      },
      "text/plain": [
       "Map(center=[43.61096049431887, 3.8730657449130987], controls=(ZoomControl(options=['position', 'zoom_in_text',…"
      ]
     },
     "execution_count": 5,
     "metadata": {},
     "output_type": "execute_result"
    }
   ],
   "source": [
    "from ipyleaflet import Marker, Map\n",
    "\n",
    "m = Map(center=center, zoom=13)\n",
    "for coordinate in coordinates:\n",
    "    marker = Marker(location=coordinate, draggable=False)\n",
    "    m.add_layer(marker)\n",
    "\n",
    "m"
   ]
  },
  {
   "cell_type": "code",
   "execution_count": null,
   "metadata": {},
   "outputs": [],
   "source": []
  },
  {
   "cell_type": "code",
   "execution_count": null,
   "metadata": {},
   "outputs": [],
   "source": []
  },
  {
   "cell_type": "code",
   "execution_count": null,
   "metadata": {},
   "outputs": [],
   "source": []
  }
 ],
 "metadata": {
  "kernelspec": {
   "display_name": "Python 3 (ipykernel)",
   "language": "python",
   "name": "python3"
  },
  "language_info": {
   "codemirror_mode": {
    "name": "ipython",
    "version": 3
   },
   "file_extension": ".py",
   "mimetype": "text/x-python",
   "name": "python",
   "nbconvert_exporter": "python",
   "pygments_lexer": "ipython3",
   "version": "3.8.10"
  }
 },
 "nbformat": 4,
 "nbformat_minor": 4
}
