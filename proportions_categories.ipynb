{
 "cells": [
  {
   "cell_type": "code",
   "execution_count": null,
   "metadata": {},
   "outputs": [],
   "source": [
    "%matplotlib inline\n",
    "\n",
    "import textwrap\n",
    "\n",
    "import requests\n",
    "import pandas as pd\n",
    "import matplotlib.pyplot as plt"
   ]
  },
  {
   "cell_type": "code",
   "execution_count": null,
   "metadata": {},
   "outputs": [],
   "source": [
    "# Getting data\n",
    "resp = requests.get('https://vigilo.jesuisundesdeux.org/get_issues.php')\n",
    "df = pd.DataFrame(resp.json())\n",
    "df.time = pd.to_datetime(df.time, unit='s')\n",
    "\n",
    "resp = requests.get('https://vigilo.jesuisundesdeux.org/get_categories.php')\n",
    "cat = resp.json()"
   ]
  },
  {
   "cell_type": "code",
   "execution_count": null,
   "metadata": {},
   "outputs": [],
   "source": [
    "fig, ax = plt.subplots(figsize=(5, 5))\n",
    "\n",
    "size = 0.3\n",
    "min_proportion = 0.04\n",
    "cmap = plt.get_cmap(\"tab20c\")\n",
    "\n",
    "count = df.groupby('categorie')['token'].count().sort_values(ascending=False)\n",
    "total = count.sum()\n",
    "\n",
    "\n",
    "def prct(x):\n",
    "    if x < min_proportion * 100:\n",
    "        return ''\n",
    "    return \"{0:.0%}\".format(x / 100)\n",
    "\n",
    "\n",
    "patches, text, autotext = ax.pie(x=count,\n",
    "                                 radius=1 - size,\n",
    "                                 wedgeprops=dict(width=size, edgecolor='w'),\n",
    "                                 startangle=90,\n",
    "                                 labels=[\n",
    "                                     '\\n'.join(textwrap.wrap(cat[x], 17)) if (count[x] / total) > min_proportion else ''\n",
    "                                     for x in\n",
    "                                     count.index],\n",
    "                                 labeldistance=1.1,\n",
    "                                 counterclock=False,\n",
    "                                 autopct=prct,\n",
    "                                 pctdistance=0.8)\n",
    "plt.setp(text, fontweight=\"bold\", size=6.5)\n",
    "plt.setp(autotext, fontweight=\"bold\", size=8)\n",
    "\n",
    "plt.title(\"Proportion des observations de Vǐgǐlo par catégories\")\n",
    "\n",
    "plt.tight_layout()\n",
    "plt.show()"
   ]
  },
  {
   "cell_type": "code",
   "execution_count": null,
   "metadata": {},
   "outputs": [],
   "source": []
  }
 ],
 "metadata": {
  "kernelspec": {
   "display_name": "Python 3",
   "language": "python",
   "name": "python3"
  },
  "language_info": {
   "codemirror_mode": {
    "name": "ipython",
    "version": 3
   },
   "file_extension": ".py",
   "mimetype": "text/x-python",
   "name": "python",
   "nbconvert_exporter": "python",
   "pygments_lexer": "ipython3",
   "version": "3.7.0"
  }
 },
 "nbformat": 4,
 "nbformat_minor": 2
}
