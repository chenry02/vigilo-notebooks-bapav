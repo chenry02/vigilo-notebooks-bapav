{
 "cells": [
  {
   "cell_type": "markdown",
   "metadata": {},
   "source": [
    "Importation des librairies utiles"
   ]
  },
  {
   "cell_type": "code",
   "execution_count": 109,
   "metadata": {},
   "outputs": [],
   "source": [
    "import requests\n",
    "import pandas as pd"
   ]
  },
  {
   "cell_type": "markdown",
   "metadata": {},
   "source": [
    "Création du dictionnaire des Localisation avec leur URL respectives"
   ]
  },
  {
   "cell_type": "code",
   "execution_count": 110,
   "metadata": {},
   "outputs": [
    {
     "data": {
      "text/html": [
       "<div>\n",
       "<style scoped>\n",
       "    .dataframe tbody tr th:only-of-type {\n",
       "        vertical-align: middle;\n",
       "    }\n",
       "\n",
       "    .dataframe tbody tr th {\n",
       "        vertical-align: top;\n",
       "    }\n",
       "\n",
       "    .dataframe thead th {\n",
       "        text-align: right;\n",
       "    }\n",
       "</style>\n",
       "<table border=\"1\" class=\"dataframe\">\n",
       "  <thead>\n",
       "    <tr style=\"text-align: right;\">\n",
       "      <th></th>\n",
       "    </tr>\n",
       "    <tr>\n",
       "      <th>Localisation</th>\n",
       "    </tr>\n",
       "  </thead>\n",
       "  <tbody>\n",
       "    <tr>\n",
       "      <th>AGGLOMÉRATION LE COTENTIN</th>\n",
       "    </tr>\n",
       "    <tr>\n",
       "      <th>AGGLOMÉRATION TROYENNE</th>\n",
       "    </tr>\n",
       "    <tr>\n",
       "      <th>AIX MARSEILLE PROVENCE METROPOLE</th>\n",
       "    </tr>\n",
       "    <tr>\n",
       "      <th>BASSIN D'ARCACHON</th>\n",
       "    </tr>\n",
       "    <tr>\n",
       "      <th>BEAUVAISIS</th>\n",
       "    </tr>\n",
       "    <tr>\n",
       "      <th>BORDEAUX MÉTROPOLE</th>\n",
       "    </tr>\n",
       "    <tr>\n",
       "      <th>BREST MÉTROPOLE</th>\n",
       "    </tr>\n",
       "    <tr>\n",
       "      <th>EVREUX</th>\n",
       "    </tr>\n",
       "    <tr>\n",
       "      <th>GRAND MONTPELLIER</th>\n",
       "    </tr>\n",
       "    <tr>\n",
       "      <th>LA ROCHELLE</th>\n",
       "    </tr>\n",
       "    <tr>\n",
       "      <th>LORIENT AGGLO</th>\n",
       "    </tr>\n",
       "    <tr>\n",
       "      <th>MONS</th>\n",
       "    </tr>\n",
       "    <tr>\n",
       "      <th>NANCY AGGLOMÉRATION</th>\n",
       "    </tr>\n",
       "    <tr>\n",
       "      <th>NANTES MÉTROPOLE</th>\n",
       "    </tr>\n",
       "    <tr>\n",
       "      <th>NORD-ISÈRE (APIE)</th>\n",
       "    </tr>\n",
       "    <tr>\n",
       "      <th>PARIS SACLAY</th>\n",
       "    </tr>\n",
       "    <tr>\n",
       "      <th>PAYS DE CHÂTEAUGIRON</th>\n",
       "    </tr>\n",
       "    <tr>\n",
       "      <th>PÉRIGUEUX AGGLO</th>\n",
       "    </tr>\n",
       "    <tr>\n",
       "      <th>SAINT MARCELLIN VERCORS ISÈRE COMMUNAUTÉ</th>\n",
       "    </tr>\n",
       "    <tr>\n",
       "      <th>SAINT-BRIEUC ARMOR AGGLOMÉRATION</th>\n",
       "    </tr>\n",
       "    <tr>\n",
       "      <th>STRASBOURG</th>\n",
       "    </tr>\n",
       "    <tr>\n",
       "      <th>SUD OISE</th>\n",
       "    </tr>\n",
       "    <tr>\n",
       "      <th>THAU</th>\n",
       "    </tr>\n",
       "    <tr>\n",
       "      <th>VANNES</th>\n",
       "    </tr>\n",
       "  </tbody>\n",
       "</table>\n",
       "</div>"
      ],
      "text/plain": [
       "Empty DataFrame\n",
       "Columns: []\n",
       "Index: [AGGLOMÉRATION LE COTENTIN, AGGLOMÉRATION TROYENNE, AIX MARSEILLE PROVENCE METROPOLE, BASSIN D'ARCACHON, BEAUVAISIS, BORDEAUX MÉTROPOLE, BREST MÉTROPOLE, EVREUX, GRAND MONTPELLIER, LA ROCHELLE, LORIENT AGGLO, MONS, NANCY AGGLOMÉRATION, NANTES MÉTROPOLE, NORD-ISÈRE (APIE), PARIS SACLAY, PAYS DE CHÂTEAUGIRON, PÉRIGUEUX AGGLO, SAINT MARCELLIN VERCORS ISÈRE COMMUNAUTÉ, SAINT-BRIEUC ARMOR AGGLOMÉRATION, STRASBOURG, SUD OISE, THAU, VANNES]"
      ]
     },
     "execution_count": 110,
     "metadata": {},
     "output_type": "execute_result"
    }
   ],
   "source": [
    "#Localisation des données\n",
    "dict_association_localisation = {'AGGLOMÉRATION LE COTENTIN':'https://vigilo.velorution-cherbourg.fr/get_issues.php?',\n",
    "                                 'AGGLOMÉRATION TROYENNE':'https://vigilo.troyesenselle.fr/get_issues.php?', \n",
    "                                 'AIX MARSEILLE PROVENCE METROPOLE':'https://vigilo.velosenville.org/get_issues.php?',\n",
    "                                 'BASSIN D\\'ARCACHON':'https://vigilo.velobassin.org/get_issues.php?',\n",
    "                                 'BEAUVAISIS':'https://vigilo.vellovaque.fr/get_issues.php?',\n",
    "                                 'BORDEAUX MÉTROPOLE':'https://vigilo.cycles-manivelles.org/get_issues.php?',\n",
    "                                 'BREST MÉTROPOLE':'https://vigilo.bapav.org/get_issues.php?',\n",
    "                                 'EVREUX':'https://vigilo.cube27.org/get_issues.php?',\n",
    "                                 'GRAND MONTPELLIER':'https://vigilo.jesuisundesdeux.org/get_issues.php?',\n",
    "                                 'LA ROCHELLE':'https://vigilo.-lr.corolo.fr/get_issues.php?',\n",
    "                                 'LORIENT AGGLO':'https://vigilo.claav.fr/get_issues.php?',\n",
    "                                 'MONS':'https://vigilo.geckonline.be/get_issues.php?',\n",
    "                                 'NANCY AGGLOMÉRATION':'https://vigilo.rigelk.eu/get_issues.php?',\n",
    "                                 'NANTES MÉTROPOLE':'https://vigilo.placeauvelo-nantes.fr/get_issues.php?',\n",
    "                                 'NORD-ISÈRE (APIE)':'https://vigilo.apie-asso.net/get_issues.php?',\n",
    "                                 'PARIS SACLAY':'https://api.vigilo-parissaclay.mdb-idf.org/get_issues.php?',\n",
    "                                 'PAYS DE CHÂTEAUGIRON':'https://pouliquen.net/vigilo/get_issues.php?',\n",
    "                                 'PÉRIGUEUX AGGLO':'https://vigilo.velorution-perigourdine.fr/get_issues.php?',\n",
    "                                 'SAINT MARCELLIN VERCORS ISÈRE COMMUNAUTÉ':'https://vigilo.roulavelo.org/get_issues.php?',\n",
    "                                 'SAINT-BRIEUC ARMOR AGGLOMÉRATION':'https://api-vigilo.velo-utile.fr/get_issues.php?',\n",
    "                                 'STRASBOURG':'https://www.strasbourgavelo.eu/get_issues.php?',\n",
    "                                 'SUD OISE':'https://vigilo.au5v.fr//get_issues.php?',\n",
    "                                 'THAU':'https://prod-sete.vigilo.velocite-montpellier.fr/get_issues.php?',\n",
    "                                 'VANNES':'https://vigilo.kaz.bzh/get_issues.php?'\n",
    "                                }\n",
    "\n",
    "df_localisation = pd.DataFrame(dict_association_localisation.keys(), columns=[\"Localisation\"])\n",
    "df_localisation.set_index(\"Localisation\", inplace=True)\n",
    "df_localisation"
   ]
  },
  {
   "cell_type": "markdown",
   "metadata": {},
   "source": [
    "Création du dictionnaire avec les différentes catégories de signalements et leur numéro"
   ]
  },
  {
   "cell_type": "code",
   "execution_count": 111,
   "metadata": {},
   "outputs": [
    {
     "data": {
      "text/html": [
       "<div>\n",
       "<style scoped>\n",
       "    .dataframe tbody tr th:only-of-type {\n",
       "        vertical-align: middle;\n",
       "    }\n",
       "\n",
       "    .dataframe tbody tr th {\n",
       "        vertical-align: top;\n",
       "    }\n",
       "\n",
       "    .dataframe thead th {\n",
       "        text-align: right;\n",
       "    }\n",
       "</style>\n",
       "<table border=\"1\" class=\"dataframe\">\n",
       "  <thead>\n",
       "    <tr style=\"text-align: right;\">\n",
       "      <th></th>\n",
       "      <th>Catégories</th>\n",
       "    </tr>\n",
       "    <tr>\n",
       "      <th>id</th>\n",
       "      <th></th>\n",
       "    </tr>\n",
       "  </thead>\n",
       "  <tbody>\n",
       "    <tr>\n",
       "      <th>8</th>\n",
       "      <td>Absence d'aménagement</td>\n",
       "    </tr>\n",
       "    <tr>\n",
       "      <th>3</th>\n",
       "      <td>Aménagement mal conçu</td>\n",
       "    </tr>\n",
       "    <tr>\n",
       "      <th>4</th>\n",
       "      <td>Défaut d'entretien</td>\n",
       "    </tr>\n",
       "    <tr>\n",
       "      <th>5</th>\n",
       "      <td>Absence d'arceaux de stationnement</td>\n",
       "    </tr>\n",
       "    <tr>\n",
       "      <th>2</th>\n",
       "      <td>Véhicule ou objet gênant</td>\n",
       "    </tr>\n",
       "    <tr>\n",
       "      <th>9</th>\n",
       "      <td>Accident, chute, incident</td>\n",
       "    </tr>\n",
       "    <tr>\n",
       "      <th>6</th>\n",
       "      <td>Signalisation, marquage</td>\n",
       "    </tr>\n",
       "    <tr>\n",
       "      <th>7</th>\n",
       "      <td>Incivilité récurrente sur la route</td>\n",
       "    </tr>\n",
       "    <tr>\n",
       "      <th>10</th>\n",
       "      <td>Vol ou dégradation de vélo</td>\n",
       "    </tr>\n",
       "    <tr>\n",
       "      <th>100</th>\n",
       "      <td>Autre</td>\n",
       "    </tr>\n",
       "    <tr>\n",
       "      <th>50</th>\n",
       "      <td>COVID - Distanciation physique impossible</td>\n",
       "    </tr>\n",
       "    <tr>\n",
       "      <th>51</th>\n",
       "      <td>COVID - Aménagement fermé</td>\n",
       "    </tr>\n",
       "    <tr>\n",
       "      <th>52</th>\n",
       "      <td>COVID - Voirie en période de confinement</td>\n",
       "    </tr>\n",
       "    <tr>\n",
       "      <th>11</th>\n",
       "      <td>Éclairage public insuffisant</td>\n",
       "    </tr>\n",
       "  </tbody>\n",
       "</table>\n",
       "</div>"
      ],
      "text/plain": [
       "                                    Catégories\n",
       "id                                            \n",
       "8                        Absence d'aménagement\n",
       "3                        Aménagement mal conçu\n",
       "4                           Défaut d'entretien\n",
       "5           Absence d'arceaux de stationnement\n",
       "2                     Véhicule ou objet gênant\n",
       "9                    Accident, chute, incident\n",
       "6                      Signalisation, marquage\n",
       "7           Incivilité récurrente sur la route\n",
       "10                  Vol ou dégradation de vélo\n",
       "100                                      Autre\n",
       "50   COVID - Distanciation physique impossible\n",
       "51                   COVID - Aménagement fermé\n",
       "52    COVID - Voirie en période de confinement\n",
       "11                Éclairage public insuffisant"
      ]
     },
     "execution_count": 111,
     "metadata": {},
     "output_type": "execute_result"
    }
   ],
   "source": [
    "# URL de l'API pour récupérer la liste des catégories\n",
    "url_categories = 'https://vigilo-bf7f2.firebaseio.com/categorieslist.json'\n",
    "resp = requests.get(url_categories)\n",
    "resp.raise_for_status()\n",
    "\n",
    "# Convertir la liste de catégories en un dictionnaire avec le nom de la catégorie comme clé et l'identifiant de catégorie comme valeur\n",
    "categories_dict = {cat[\"catname\"]: str(cat[\"catid\"]) for cat in resp.json()}\n",
    "\n",
    "# Créer un dataframe à partir du dictionnaire\n",
    "df_categories = pd.DataFrame(categories_dict.items(), columns=[\"Catégories\", \"id\"])\n",
    "\n",
    "# Changer l'index et trier par id\n",
    "df_categories = df_categories.set_index(\"id\")\n",
    "\n",
    "# Afficher le dataframe\n",
    "df_categories\n"
   ]
  },
  {
   "cell_type": "markdown",
   "metadata": {},
   "source": [
    "Initialisation des paramètres"
   ]
  },
  {
   "cell_type": "code",
   "execution_count": 112,
   "metadata": {},
   "outputs": [],
   "source": [
    "# Paramètres de recherche\n",
    "\n",
    "# Filtre de recherche par localisation, exemple : localisation = \"BREST MÉTROPOLE\"\n",
    "location_filter = \"BREST MÉTROPOLE\"\n",
    "\n",
    "# Filtre des catégories à afficher, exemple : category_filter = \"Absence d'aménagement\"\n",
    "# donne la catégorie Absence d'aménagement\n",
    "category_filter = None"
   ]
  },
  {
   "cell_type": "markdown",
   "metadata": {},
   "source": [
    "Création du dataframe des données"
   ]
  },
  {
   "cell_type": "code",
   "execution_count": 113,
   "metadata": {},
   "outputs": [],
   "source": [
    "def data_collection():\n",
    "    try:\n",
    "        resp = requests.get(dict_association_localisation[location_filter])\n",
    "        resp.raise_for_status()  # Raise an exception for 4xx and 5xx status codes\n",
    "        df = pd.DataFrame(resp.json())\n",
    "        return df[categories_dict[category_filter]] if category_filter else df\n",
    "    except requests.exceptions.RequestException as e:\n",
    "        print(f\"Error fetching data: {e}\")\n",
    "        return None\n",
    "    except ValueError as e:\n",
    "        print(f\"Error parsing JSON: {e}\")\n",
    "        return None\n",
    "df = data_collection()"
   ]
  },
  {
   "cell_type": "markdown",
   "metadata": {},
   "source": [
    "test"
   ]
  },
  {
   "cell_type": "code",
   "execution_count": 114,
   "metadata": {},
   "outputs": [
    {
     "data": {
      "text/plain": [
       "categorie\n",
       "2      448\n",
       "3      110\n",
       "4       66\n",
       "5       61\n",
       "8       57\n",
       "6       32\n",
       "7       13\n",
       "9        7\n",
       "100      4\n",
       "52       3\n",
       "Name: count, dtype: int64"
      ]
     },
     "execution_count": 114,
     "metadata": {},
     "output_type": "execute_result"
    }
   ],
   "source": [
    "df['categorie'].value_counts()"
   ]
  }
 ],
 "metadata": {
  "kernelspec": {
   "display_name": "Python 3",
   "language": "python",
   "name": "python3"
  },
  "language_info": {
   "codemirror_mode": {
    "name": "ipython",
    "version": 3
   },
   "file_extension": ".py",
   "mimetype": "text/x-python",
   "name": "python",
   "nbconvert_exporter": "python",
   "pygments_lexer": "ipython3",
   "version": "3.11.7"
  }
 },
 "nbformat": 4,
 "nbformat_minor": 2
}
