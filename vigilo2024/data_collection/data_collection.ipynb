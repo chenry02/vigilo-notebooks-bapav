{
 "cells": [
  {
   "cell_type": "markdown",
   "metadata": {},
   "source": [
    "Importation des librairies utiles"
   ]
  },
  {
   "cell_type": "code",
   "execution_count": 7,
   "metadata": {},
   "outputs": [],
   "source": [
    "import requests\n",
    "import pandas as pd"
   ]
  },
  {
   "cell_type": "markdown",
   "metadata": {},
   "source": [
    "Création du dictionnaire avec les différentes catégories de signalements et leur numéro"
   ]
  },
  {
   "cell_type": "code",
   "execution_count": 8,
   "metadata": {},
   "outputs": [
    {
     "data": {
      "text/html": [
       "<div>\n",
       "<style scoped>\n",
       "    .dataframe tbody tr th:only-of-type {\n",
       "        vertical-align: middle;\n",
       "    }\n",
       "\n",
       "    .dataframe tbody tr th {\n",
       "        vertical-align: top;\n",
       "    }\n",
       "\n",
       "    .dataframe thead th {\n",
       "        text-align: right;\n",
       "    }\n",
       "</style>\n",
       "<table border=\"1\" class=\"dataframe\">\n",
       "  <thead>\n",
       "    <tr style=\"text-align: right;\">\n",
       "      <th></th>\n",
       "      <th>catégorie</th>\n",
       "    </tr>\n",
       "    <tr>\n",
       "      <th>id</th>\n",
       "      <th></th>\n",
       "    </tr>\n",
       "  </thead>\n",
       "  <tbody>\n",
       "    <tr>\n",
       "      <th>2</th>\n",
       "      <td>Véhicule ou objet gênant</td>\n",
       "    </tr>\n",
       "    <tr>\n",
       "      <th>3</th>\n",
       "      <td>Aménagement mal conçu</td>\n",
       "    </tr>\n",
       "    <tr>\n",
       "      <th>4</th>\n",
       "      <td>Défaut d'entretien</td>\n",
       "    </tr>\n",
       "    <tr>\n",
       "      <th>5</th>\n",
       "      <td>Absence d'arceaux de stationnement</td>\n",
       "    </tr>\n",
       "    <tr>\n",
       "      <th>6</th>\n",
       "      <td>Signalisation, marquage</td>\n",
       "    </tr>\n",
       "    <tr>\n",
       "      <th>7</th>\n",
       "      <td>Incivilité récurrente sur la route</td>\n",
       "    </tr>\n",
       "    <tr>\n",
       "      <th>8</th>\n",
       "      <td>Absence d'aménagement</td>\n",
       "    </tr>\n",
       "    <tr>\n",
       "      <th>9</th>\n",
       "      <td>Accident, chute, incident</td>\n",
       "    </tr>\n",
       "    <tr>\n",
       "      <th>10</th>\n",
       "      <td>Vol ou dégradation de vélo</td>\n",
       "    </tr>\n",
       "    <tr>\n",
       "      <th>11</th>\n",
       "      <td>Éclairage public insuffisant</td>\n",
       "    </tr>\n",
       "    <tr>\n",
       "      <th>50</th>\n",
       "      <td>COVID - Distanciation physique impossible</td>\n",
       "    </tr>\n",
       "    <tr>\n",
       "      <th>51</th>\n",
       "      <td>COVID - Aménagement fermé</td>\n",
       "    </tr>\n",
       "    <tr>\n",
       "      <th>52</th>\n",
       "      <td>COVID - Voirie en période de confinement</td>\n",
       "    </tr>\n",
       "    <tr>\n",
       "      <th>100</th>\n",
       "      <td>Autre</td>\n",
       "    </tr>\n",
       "  </tbody>\n",
       "</table>\n",
       "</div>"
      ],
      "text/plain": [
       "                                     catégorie\n",
       "id                                            \n",
       "2                     Véhicule ou objet gênant\n",
       "3                        Aménagement mal conçu\n",
       "4                           Défaut d'entretien\n",
       "5           Absence d'arceaux de stationnement\n",
       "6                      Signalisation, marquage\n",
       "7           Incivilité récurrente sur la route\n",
       "8                        Absence d'aménagement\n",
       "9                    Accident, chute, incident\n",
       "10                  Vol ou dégradation de vélo\n",
       "11                Éclairage public insuffisant\n",
       "50   COVID - Distanciation physique impossible\n",
       "51                   COVID - Aménagement fermé\n",
       "52    COVID - Voirie en période de confinement\n",
       "100                                      Autre"
      ]
     },
     "execution_count": 8,
     "metadata": {},
     "output_type": "execute_result"
    }
   ],
   "source": [
    "categories_list = [\n",
    "    {\"catcolor\": \"paleturquoise\", \"catid\": 8, \"catname\": \"Absence d'aménagement\", \"catname_en_US\": \"Missing of bicycle or pedestrian way\"},\n",
    "    {\"catcolor\": \"seagreen\", \"catid\": 3, \"catname\": \"Aménagement mal conçu\", \"catname_en_US\": \"Bad designed way\"},\n",
    "    {\"catcolor\": \"darkgreen\", \"catid\": 4, \"catname\": \"Défaut d'entretien\", \"catname_en_US\": \"Maintenance issue\"},\n",
    "    {\"catcolor\": \"turquoise\", \"catid\": 5, \"catname\": \"Absence d'arceaux de stationnement\", \"catname_en_US\": \"Missing bicycle parking\"},\n",
    "    {\"catcolor\": \"crimson\", \"catid\": 2, \"catname\": \"Véhicule ou objet gênant\", \"catname_en_US\": \"Annoying vehicle or object\"},\n",
    "    {\"catcolor\": \"black\", \"catid\": 9, \"catname\": \"Accident, chute, incident\", \"catname_en_US\": \"Accident, incident or drop \"},\n",
    "    {\"catcolor\": \"yellowgreen\", \"catid\": 6, \"catname\": \"Signalisation, marquage\", \"catname_en_US\": \"Traffic sign or labeling\"},\n",
    "    {\"catcolor\": \"lightcoral\", \"catid\": 7, \"catname\": \"Incivilité récurrente sur la route\", \"catname_en_US\": \"Antisocial behaviour on the road\"},\n",
    "    {\"catcolor\": \"blue\", \"catid\": 10, \"catname\": \"Vol ou dégradation de vélo\", \"catname_en_US\": \"Bike theft or vandalism\"},\n",
    "    {\"catcolor\": \"grey\", \"catid\": 100, \"catname\": \"Autre\", \"catname_en_US\": \"Other\"},\n",
    "    {\"catcolor\": \"orange\", \"catdisable\": True, \"catid\": 50, \"catname\": \"COVID - Distanciation physique impossible\"},\n",
    "    {\"catcolor\": \"red\", \"catdisable\": True, \"catid\": 51, \"catname\": \"COVID - Aménagement fermé\"},\n",
    "    {\"catcolor\": \"green\", \"catdisable\": True, \"catid\": 52, \"catname\": \"COVID - Voirie en période de confinement\"},\n",
    "    {\"catcolor\": \"black\", \"catid\": 11, \"catname\": \"Éclairage public insuffisant\", \"catname_en_US\": \"Insufficient public lighting\"}\n",
    "]\n",
    "\n",
    "# Convertir la liste de catégories en un dictionnaire avec le nom de la catégorie comme clé et l'identifiant de catégorie comme valeur\n",
    "categories_dict = {cat[\"catname\"]: str(cat[\"catid\"]) for cat in categories_list}\n",
    "\n",
    "# Création du dataframe des catégories avec les colonnes \"id\" et \"catégorie\"\n",
    "df_categories = pd.DataFrame(categories_list).loc[:, [\"catid\", \"catname\"]]\n",
    "# Renommer les colonnes\n",
    "df_categories = df_categories.rename(columns={\"catid\": \"id\", \"catname\": \"catégorie\"})\n",
    "# Changer l'index et trier par id\n",
    "df_categories = df_categories.set_index(\"id\").sort_index()\n",
    "df_categories"
   ]
  },
  {
   "cell_type": "markdown",
   "metadata": {},
   "source": [
    "Initialisation des paramètres"
   ]
  },
  {
   "cell_type": "code",
   "execution_count": 9,
   "metadata": {},
   "outputs": [],
   "source": [
    "start_date = None #Default value\n",
    "end_date = None #Default value\n",
    "url = 'https://vigilo.bapav.org/get_issues.php'\n",
    "category_filter = None  # Default value\n",
    "location_filter = None  # Default value\n",
    "status_filter = None  # Default value\n",
    "approval_filter = None  # Default value\n",
    "scope_filter = None # Default value\n",
    "keyword_search = None  # Default value\n",
    "data_limit = None  # Default value\n",
    "# Filtre des catégories à afficher, exemple : category_filter = categories_dict[\"Absence d'aménagement\"]\n",
    "# donne la catégorie \"Absence d'aménagement\" \n",
    "category_filter = None"
   ]
  },
  {
   "cell_type": "markdown",
   "metadata": {},
   "source": [
    "Fonction créant le dataframe"
   ]
  },
  {
   "cell_type": "code",
   "execution_count": 10,
   "metadata": {},
   "outputs": [],
   "source": [
    "def data_collection(start_date, end_date, url, category_filter=None, location_filter=None,\n",
    "                    status_filter=None, approval_filter=None, scope_filter=None,\n",
    "                    keyword_search=None, data_limit=None):\n",
    "    try:\n",
    "        params = {\n",
    "            'start_date': start_date,\n",
    "            'end_date': end_date,\n",
    "            'location_filter': location_filter,\n",
    "            'status_filter': status_filter,\n",
    "            'approval_filter': approval_filter,\n",
    "            'scope_filter': scope_filter,\n",
    "            'keyword_search': keyword_search,\n",
    "            'data_limit': data_limit\n",
    "        }\n",
    "        resp = requests.get(url, params=params)\n",
    "        resp.raise_for_status()  # Raise an exception for 4xx and 5xx status codes\n",
    "        df = pd.DataFrame(resp.json())\n",
    "        return df[df['categorie'] == category_filter] if category_filter else df\n",
    "    except requests.exceptions.RequestException as e:\n",
    "        print(f\"Error fetching data: {e}\")\n",
    "        return None\n",
    "    except ValueError as e:\n",
    "        print(f\"Error parsing JSON: {e}\")\n",
    "        return None"
   ]
  },
  {
   "cell_type": "markdown",
   "metadata": {},
   "source": [
    "Création du dataframe"
   ]
  },
  {
   "cell_type": "code",
   "execution_count": 11,
   "metadata": {},
   "outputs": [],
   "source": [
    "df = data_collection(start_date, end_date, url, category_filter, location_filter,\n",
    "                     status_filter, approval_filter, scope_filter, keyword_search, data_limit)"
   ]
  },
  {
   "cell_type": "markdown",
   "metadata": {},
   "source": [
    "test"
   ]
  },
  {
   "cell_type": "code",
   "execution_count": 12,
   "metadata": {},
   "outputs": [
    {
     "data": {
      "text/plain": [
       "categorie\n",
       "2      448\n",
       "3      110\n",
       "4       66\n",
       "5       61\n",
       "8       57\n",
       "6       32\n",
       "7       13\n",
       "9        7\n",
       "100      4\n",
       "52       3\n",
       "Name: count, dtype: int64"
      ]
     },
     "execution_count": 12,
     "metadata": {},
     "output_type": "execute_result"
    }
   ],
   "source": [
    "df['categorie'].value_counts()"
   ]
  }
 ],
 "metadata": {
  "kernelspec": {
   "display_name": "Python 3",
   "language": "python",
   "name": "python3"
  },
  "language_info": {
   "codemirror_mode": {
    "name": "ipython",
    "version": 3
   },
   "file_extension": ".py",
   "mimetype": "text/x-python",
   "name": "python",
   "nbconvert_exporter": "python",
   "pygments_lexer": "ipython3",
   "version": "3.11.7"
  }
 },
 "nbformat": 4,
 "nbformat_minor": 2
}
